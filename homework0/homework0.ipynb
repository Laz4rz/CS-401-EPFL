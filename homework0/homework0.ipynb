{
 "cells": [
  {
   "cell_type": "code",
   "execution_count": 39,
   "metadata": {},
   "outputs": [],
   "source": [
    "import pandas as pd\n",
    "import matplotlib.pyplot as plt\n",
    "import numpy as np"
   ]
  },
  {
   "cell_type": "code",
   "execution_count": 40,
   "metadata": {},
   "outputs": [
    {
     "data": {
      "text/html": [
       "<div>\n",
       "<style scoped>\n",
       "    .dataframe tbody tr th:only-of-type {\n",
       "        vertical-align: middle;\n",
       "    }\n",
       "\n",
       "    .dataframe tbody tr th {\n",
       "        vertical-align: top;\n",
       "    }\n",
       "\n",
       "    .dataframe thead th {\n",
       "        text-align: right;\n",
       "    }\n",
       "</style>\n",
       "<table border=\"1\" class=\"dataframe\">\n",
       "  <thead>\n",
       "    <tr style=\"text-align: right;\">\n",
       "      <th></th>\n",
       "      <th>Intent</th>\n",
       "      <th>Gender</th>\n",
       "      <th>Age</th>\n",
       "      <th>Race</th>\n",
       "      <th>Deaths</th>\n",
       "      <th>Population</th>\n",
       "      <th>Rate</th>\n",
       "    </tr>\n",
       "  </thead>\n",
       "  <tbody>\n",
       "    <tr>\n",
       "      <th>1</th>\n",
       "      <td>None selected</td>\n",
       "      <td>None selected</td>\n",
       "      <td>None selected</td>\n",
       "      <td>None selected</td>\n",
       "      <td>33599</td>\n",
       "      <td>316299978</td>\n",
       "      <td>10.6</td>\n",
       "    </tr>\n",
       "    <tr>\n",
       "      <th>2</th>\n",
       "      <td>None selected</td>\n",
       "      <td>None selected</td>\n",
       "      <td>None selected</td>\n",
       "      <td>White</td>\n",
       "      <td>22079</td>\n",
       "      <td>197369634</td>\n",
       "      <td>11.2</td>\n",
       "    </tr>\n",
       "    <tr>\n",
       "      <th>3</th>\n",
       "      <td>None selected</td>\n",
       "      <td>None selected</td>\n",
       "      <td>None selected</td>\n",
       "      <td>Black</td>\n",
       "      <td>7765</td>\n",
       "      <td>38896382</td>\n",
       "      <td>20.0</td>\n",
       "    </tr>\n",
       "    <tr>\n",
       "      <th>4</th>\n",
       "      <td>None selected</td>\n",
       "      <td>None selected</td>\n",
       "      <td>None selected</td>\n",
       "      <td>Hispanic</td>\n",
       "      <td>3007</td>\n",
       "      <td>54049078</td>\n",
       "      <td>5.6</td>\n",
       "    </tr>\n",
       "    <tr>\n",
       "      <th>5</th>\n",
       "      <td>None selected</td>\n",
       "      <td>None selected</td>\n",
       "      <td>None selected</td>\n",
       "      <td>Asian/Pacific Islander</td>\n",
       "      <td>442</td>\n",
       "      <td>16315561</td>\n",
       "      <td>2.7</td>\n",
       "    </tr>\n",
       "    <tr>\n",
       "      <th>...</th>\n",
       "      <td>...</td>\n",
       "      <td>...</td>\n",
       "      <td>...</td>\n",
       "      <td>...</td>\n",
       "      <td>...</td>\n",
       "      <td>...</td>\n",
       "      <td>...</td>\n",
       "    </tr>\n",
       "    <tr>\n",
       "      <th>536</th>\n",
       "      <td>Unknown</td>\n",
       "      <td>Male</td>\n",
       "      <td>5</td>\n",
       "      <td>White</td>\n",
       "      <td>0</td>\n",
       "      <td>0</td>\n",
       "      <td>NaN</td>\n",
       "    </tr>\n",
       "    <tr>\n",
       "      <th>537</th>\n",
       "      <td>Unknown</td>\n",
       "      <td>Male</td>\n",
       "      <td>5</td>\n",
       "      <td>Black</td>\n",
       "      <td>0</td>\n",
       "      <td>0</td>\n",
       "      <td>NaN</td>\n",
       "    </tr>\n",
       "    <tr>\n",
       "      <th>538</th>\n",
       "      <td>Unknown</td>\n",
       "      <td>Male</td>\n",
       "      <td>5</td>\n",
       "      <td>Hispanic</td>\n",
       "      <td>0</td>\n",
       "      <td>0</td>\n",
       "      <td>NaN</td>\n",
       "    </tr>\n",
       "    <tr>\n",
       "      <th>539</th>\n",
       "      <td>Unknown</td>\n",
       "      <td>Male</td>\n",
       "      <td>5</td>\n",
       "      <td>Asian/Pacific Islander</td>\n",
       "      <td>0</td>\n",
       "      <td>0</td>\n",
       "      <td>NaN</td>\n",
       "    </tr>\n",
       "    <tr>\n",
       "      <th>540</th>\n",
       "      <td>Unknown</td>\n",
       "      <td>Male</td>\n",
       "      <td>5</td>\n",
       "      <td>Other</td>\n",
       "      <td>0</td>\n",
       "      <td>0</td>\n",
       "      <td>NaN</td>\n",
       "    </tr>\n",
       "  </tbody>\n",
       "</table>\n",
       "<p>540 rows × 7 columns</p>\n",
       "</div>"
      ],
      "text/plain": [
       "            Intent         Gender            Age                    Race  \\\n",
       "1    None selected  None selected  None selected           None selected   \n",
       "2    None selected  None selected  None selected                   White   \n",
       "3    None selected  None selected  None selected                   Black   \n",
       "4    None selected  None selected  None selected                Hispanic   \n",
       "5    None selected  None selected  None selected  Asian/Pacific Islander   \n",
       "..             ...            ...            ...                     ...   \n",
       "536        Unknown           Male              5                   White   \n",
       "537        Unknown           Male              5                   Black   \n",
       "538        Unknown           Male              5                Hispanic   \n",
       "539        Unknown           Male              5  Asian/Pacific Islander   \n",
       "540        Unknown           Male              5                   Other   \n",
       "\n",
       "     Deaths  Population  Rate  \n",
       "1     33599   316299978  10.6  \n",
       "2     22079   197369634  11.2  \n",
       "3      7765    38896382  20.0  \n",
       "4      3007    54049078   5.6  \n",
       "5       442    16315561   2.7  \n",
       "..      ...         ...   ...  \n",
       "536       0           0   NaN  \n",
       "537       0           0   NaN  \n",
       "538       0           0   NaN  \n",
       "539       0           0   NaN  \n",
       "540       0           0   NaN  \n",
       "\n",
       "[540 rows x 7 columns]"
      ]
     },
     "execution_count": 40,
     "metadata": {},
     "output_type": "execute_result"
    }
   ],
   "source": [
    "df = pd.read_csv(\"gunshot_data.csv\", index_col=0)\n",
    "df"
   ]
  },
  {
   "cell_type": "code",
   "execution_count": 41,
   "metadata": {},
   "outputs": [
    {
     "data": {
      "text/plain": [
       "Intent         object\n",
       "Gender         object\n",
       "Age            object\n",
       "Race           object\n",
       "Deaths          int64\n",
       "Population      int64\n",
       "Rate          float64\n",
       "dtype: object"
      ]
     },
     "execution_count": 41,
     "metadata": {},
     "output_type": "execute_result"
    }
   ],
   "source": [
    "data.dtypes"
   ]
  },
  {
   "cell_type": "code",
   "execution_count": 42,
   "metadata": {},
   "outputs": [],
   "source": [
    "def clean_int(column):\n",
    "    column = column.where(column.str.isnumeric(), np.nan)\n",
    "    column = column.astype(int)\n",
    "    return column\n",
    "\n",
    "def clean_float(column):\n",
    "    column = column.where(column.str.isnumeric(), np.nan)\n",
    "    column = column.astype(float)\n",
    "    return column"
   ]
  },
  {
   "cell_type": "code",
   "execution_count": 43,
   "metadata": {},
   "outputs": [],
   "source": [
    "# df[\"Age\"] = clean_float(df[\"Age\"])"
   ]
  },
  {
   "cell_type": "code",
   "execution_count": 44,
   "metadata": {},
   "outputs": [
    {
     "data": {
      "text/plain": [
       "Intent         object\n",
       "Gender         object\n",
       "Age            object\n",
       "Race           object\n",
       "Deaths          int64\n",
       "Population      int64\n",
       "Rate          float64\n",
       "dtype: object"
      ]
     },
     "execution_count": 44,
     "metadata": {},
     "output_type": "execute_result"
    }
   ],
   "source": [
    "df.dtypes"
   ]
  },
  {
   "cell_type": "code",
   "execution_count": 55,
   "metadata": {},
   "outputs": [],
   "source": [
    "query_columns = [\"Intent\", \"Gender\", \"Age\", \"Race\"]"
   ]
  },
  {
   "cell_type": "markdown",
   "metadata": {},
   "source": [
    "### Nearly two-thirds of gun deaths are suicides."
   ]
  },
  {
   "cell_type": "code",
   "execution_count": 54,
   "metadata": {},
   "outputs": [
    {
     "name": "stdout",
     "output_type": "stream",
     "text": [
      "All deaths: 537580, gun deaths 168464, ratio gun/all is: 0.3133747535250567\n"
     ]
    }
   ],
   "source": [
    "all_deaths = df.Deaths.sum()\n",
    "gun_deaths = df.query(\"Intent == 'Suicide'\").Deaths.sum()\n",
    "print(f\"All deaths: {all_deaths}, gun deaths {gun_deaths}, ratio gun/all is: {gun_deaths/all_deaths}\")"
   ]
  },
  {
   "cell_type": "markdown",
   "metadata": {},
   "source": [
    "Above is incorrect as dataset is aggravated for the none selected rows. Therefor it is enough to just take those with the specific intent. "
   ]
  },
  {
   "cell_type": "code",
   "execution_count": 94,
   "metadata": {},
   "outputs": [
    {
     "name": "stdout",
     "output_type": "stream",
     "text": [
      "All deaths: 33599, suicide deaths 21058, ratio is: 0.63\n"
     ]
    }
   ],
   "source": [
    "all_deaths = df[(df[\"Intent\"] == \"None selected\") & (df[\"Gender\"] == \"None selected\") & (df[\"Age\"] == \"None selected\") & (df[\"Race\"] == \"None selected\")].Deaths.sum()\n",
    "suicide_deaths = df[(df[\"Intent\"] == \"Suicide\") & (df[\"Gender\"] == \"None selected\") & (df[\"Age\"] == \"None selected\") & (df[\"Race\"] == \"None selected\")].Deaths.sum()\n",
    "print(f\"All deaths: {all_deaths}, suicide deaths {suicide_deaths}, ratio is: {round(suicide_deaths/all_deaths, 2)}\")"
   ]
  },
  {
   "cell_type": "markdown",
   "metadata": {},
   "source": [
    "### More than 85 percent of suicide victims are male.\n"
   ]
  },
  {
   "cell_type": "code",
   "execution_count": 93,
   "metadata": {},
   "outputs": [
    {
     "name": "stdout",
     "output_type": "stream",
     "text": [
      "Suicide deaths: 21058, male suicide deaths 18162, ratio is: 0.86\n"
     ]
    }
   ],
   "source": [
    "suicide_deaths = df[(df[\"Intent\"] == \"Suicide\") & (df[\"Gender\"] == \"None selected\") & (df[\"Age\"] == \"None selected\") & (df[\"Race\"] == \"None selected\")].Deaths.sum()\n",
    "male_suicide_deaths = df[(df[\"Intent\"] == \"Suicide\") & (df[\"Gender\"] == \"Male\") & (df[\"Age\"] == \"None selected\") & (df[\"Race\"] == \"None selected\")].Deaths.sum()\n",
    "print(f\"Suicide deaths: {suicide_deaths}, male suicide deaths {male_suicide_deaths}, ratio is: {round(male_suicide_deaths/suicide_deaths, 2)}\")"
   ]
  },
  {
   "cell_type": "markdown",
   "metadata": {},
   "source": [
    "### Around a third of all gun deaths are homicides."
   ]
  },
  {
   "cell_type": "code",
   "execution_count": 92,
   "metadata": {},
   "outputs": [
    {
     "name": "stdout",
     "output_type": "stream",
     "text": [
      "All deaths: 33599, homicide deaths 11726, ratio is: 0.35\n"
     ]
    }
   ],
   "source": [
    "all_deaths = df[(df[\"Intent\"] == \"None selected\") & (df[\"Gender\"] == \"None selected\") & (df[\"Age\"] == \"None selected\") & (df[\"Race\"] == \"None selected\")].Deaths.sum()\n",
    "homicide_deaths = df[(df[\"Intent\"] == \"Homicide\") & (df[\"Gender\"] == \"None selected\") & (df[\"Age\"] == \"None selected\") & (df[\"Race\"] == \"None selected\")].Deaths.sum()\n",
    "print(f\"All deaths: {all_deaths}, homicide deaths {homicide_deaths}, ratio is: {round(homicide_deaths/all_deaths, 2)}\")"
   ]
  },
  {
   "cell_type": "markdown",
   "metadata": {},
   "source": [
    "### Around two-thirds of homicide victims who are males in the age-group of 15--34 are black."
   ]
  },
  {
   "cell_type": "code",
   "execution_count": 91,
   "metadata": {},
   "outputs": [
    {
     "name": "stdout",
     "output_type": "stream",
     "text": [
      "All male 15-34 homicide deaths: 6520, male 15-34 black homicide deaths 4312, ratio is: 0.66\n"
     ]
    }
   ],
   "source": [
    "male_15_34_homicide_deaths = df[(df[\"Intent\"] == \"Homicide\") & (df[\"Gender\"] == \"Male\") & (df[\"Age\"] == \"15 - 34\") & (df[\"Race\"] == \"None selected\")].Deaths.sum()\n",
    "black_male_15_34_homicide_deaths = df[(df[\"Intent\"] == \"Homicide\") & (df[\"Gender\"] == \"Male\") & (df[\"Age\"] == \"15 - 34\") & (df[\"Race\"] == \"Black\")].Deaths.sum()\n",
    "print(f\"All male 15-34 homicide deaths: {male_15_34_homicide_deaths}, male 15-34 black homicide deaths {black_male_15_34_homicide_deaths}, ratio is: {round(black_male_15_34_homicide_deaths/male_15_34_homicide_deaths, 2)}\")"
   ]
  },
  {
   "cell_type": "markdown",
   "metadata": {},
   "source": [
    "### Women constitue only 15 percent of the total homicide victims.\n"
   ]
  },
  {
   "cell_type": "code",
   "execution_count": 90,
   "metadata": {},
   "outputs": [
    {
     "name": "stdout",
     "output_type": "stream",
     "text": [
      "Suicide deaths: 11726, female homicide deaths 1791, ratio is: 0.15\n"
     ]
    }
   ],
   "source": [
    "homicide_deaths = df[(df[\"Intent\"] == \"Homicide\") & (df[\"Gender\"] == \"None selected\") & (df[\"Age\"] == \"None selected\") & (df[\"Race\"] == \"None selected\")].Deaths.sum()\n",
    "female_homicide_deaths = df[(df[\"Intent\"] == \"Homicide\") & (df[\"Gender\"] == \"Female\") & (df[\"Age\"] == \"None selected\") & (df[\"Race\"] == \"None selected\")].Deaths.sum()\n",
    "print(f\"Suicide deaths: {homicide_deaths}, female homicide deaths {female_homicide_deaths}, ratio is: {round(female_homicide_deaths/homicide_deaths, 2)}\")"
   ]
  },
  {
   "cell_type": "code",
   "execution_count": null,
   "metadata": {},
   "outputs": [],
   "source": []
  }
 ],
 "metadata": {
  "kernelspec": {
   "display_name": "base",
   "language": "python",
   "name": "python3"
  },
  "language_info": {
   "codemirror_mode": {
    "name": "ipython",
    "version": 3
   },
   "file_extension": ".py",
   "mimetype": "text/x-python",
   "name": "python",
   "nbconvert_exporter": "python",
   "pygments_lexer": "ipython3",
   "version": "3.11.4"
  },
  "orig_nbformat": 4
 },
 "nbformat": 4,
 "nbformat_minor": 2
}
